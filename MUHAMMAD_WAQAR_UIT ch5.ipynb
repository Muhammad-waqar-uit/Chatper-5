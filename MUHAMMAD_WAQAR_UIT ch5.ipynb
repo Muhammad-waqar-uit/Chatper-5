{
 "cells": [
  {
   "cell_type": "code",
   "execution_count": 11,
   "metadata": {},
   "outputs": [
    {
     "name": "stdout",
     "output_type": "stream",
     "text": [
      "It is hot.\n",
      "\n",
      "It is cool.\n",
      "\n",
      "It is freezing.\n",
      "\n"
     ]
    }
   ],
   "source": [
    "def tempreture(t):\n",
    "    \"print message based on tempreture value t\"\n",
    "    if t > 86:\n",
    "        print(\"It is hot.\")\n",
    "    elif t > 32 :\n",
    "        print(\"It is cool.\")\n",
    "    else:\n",
    "        print(\"It is freezing.\")  \n",
    "    return\"\"    \n",
    "print(tempreture(87))       \n",
    "print(tempreture(86))\n",
    "print(tempreture(32))"
   ]
  },
  {
   "cell_type": "code",
   "execution_count": 14,
   "metadata": {},
   "outputs": [
    {
     "name": "stdout",
     "output_type": "stream",
     "text": [
      "It is cool.\n",
      "\n"
     ]
    }
   ],
   "source": [
    "def tempreture(t):\n",
    "    \"print message based on tempreture value t\"\n",
    "    if 32 < t <=86 :\n",
    "        print(\"It is cool.\")\n",
    "    elif t >86 :\n",
    "        print(\"It is cool.\")\n",
    "    else:\n",
    "        print(\"It is freezing.\")  \n",
    "    return\"\"  \n",
    "print(tempreture(86))"
   ]
  },
  {
   "cell_type": "code",
   "execution_count": 24,
   "metadata": {},
   "outputs": [
    {
     "name": "stdout",
     "output_type": "stream",
     "text": [
      "Normal.\n",
      "\n",
      "Underwieght.\n",
      "\n"
     ]
    }
   ],
   "source": [
    "#practice problem 5.1\n",
    "def MyBMI(weight,height):\n",
    "    y=(weight*703)/(height**2)\n",
    "    if y < 18.5:\n",
    "        print(\"Underwieght.\")\n",
    "    elif 18.5 <= y < 25 :\n",
    "        print(\"Normal.\")\n",
    "    else :\n",
    "        print(\"Overwight\")\n",
    "    return\"\"\n",
    "print(MyBMI(190,75))\n",
    "print(MyBMI(140,75))"
   ]
  },
  {
   "cell_type": "code",
   "execution_count": 25,
   "metadata": {},
   "outputs": [
    {
     "name": "stdout",
     "output_type": "stream",
     "text": [
      "Cat\n",
      "Dog\n",
      "Chicken\n"
     ]
    }
   ],
   "source": [
    "l=[\"Cat\",\"Dog\",\"Chicken\"]\n",
    "for animal in l:\n",
    "    print(animal)"
   ]
  },
  {
   "cell_type": "code",
   "execution_count": 29,
   "metadata": {},
   "outputs": [
    {
     "name": "stdout",
     "output_type": "stream",
     "text": [
      "u\n",
      "a\n",
      "e\n"
     ]
    }
   ],
   "source": [
    "d=\"cupcake\"\n",
    "for c in d:\n",
    "    if c in \"aeiou\":\n",
    "        print((c))"
   ]
  },
  {
   "cell_type": "code",
   "execution_count": 31,
   "metadata": {},
   "outputs": [
    {
     "name": "stdout",
     "output_type": "stream",
     "text": [
      "In this video i will be showing you QCY t1 pro which are in my humble opinion one of the best mid range wireless earbuds.\n"
     ]
    }
   ],
   "source": [
    "infile=open(\"example.txt\",\"r\")\n",
    "for line in infile:\n",
    "    print(line,end=\"\")"
   ]
  },
  {
   "cell_type": "code",
   "execution_count": 33,
   "metadata": {},
   "outputs": [
    {
     "name": "stdout",
     "output_type": "stream",
     "text": [
      "0  1  2  3  4  5  6  7  8  9  "
     ]
    }
   ],
   "source": [
    "for i in range(10):\n",
    "    print(i,end=\"  \")"
   ]
  },
  {
   "cell_type": "code",
   "execution_count": 34,
   "metadata": {},
   "outputs": [
    {
     "name": "stdout",
     "output_type": "stream",
     "text": [
      "0 2 4 6 8 "
     ]
    }
   ],
   "source": [
    "n=10\n",
    "for i in range(n):\n",
    "    if i%2==0:\n",
    "        print(i,end=\" \")"
   ]
  },
  {
   "cell_type": "code",
   "execution_count": 36,
   "metadata": {},
   "outputs": [
    {
     "name": "stdout",
     "output_type": "stream",
     "text": [
      "2 4 8 16 32 64 128 256 512 1024 \n"
     ]
    }
   ],
   "source": [
    "#5.2 \n",
    "def powers(n):\n",
    "    for i in range(1,n+1):\n",
    "        print(2**i,end=\" \")\n",
    "    return\"\"\n",
    "print(powers(10))"
   ]
  },
  {
   "cell_type": "code",
   "execution_count": 38,
   "metadata": {},
   "outputs": [
    {
     "name": "stdout",
     "output_type": "stream",
     "text": [
      "cat\n",
      "dog\n",
      "fish\n",
      "bird\n",
      "cat\n",
      "dog\n",
      "fish\n",
      "bird\n"
     ]
    }
   ],
   "source": [
    "pets=[\"cat\",\"dog\",\"fish\",\"bird\"]\n",
    "for animal in pets:\n",
    "    print(animal)\n",
    "for i in range(len(pets)):\n",
    "    print(pets[i])"
   ]
  },
  {
   "cell_type": "code",
   "execution_count": 40,
   "metadata": {},
   "outputs": [
    {
     "name": "stdout",
     "output_type": "stream",
     "text": [
      "True\n"
     ]
    }
   ],
   "source": [
    "def sorted(lst):\n",
    "    for i in range(0,len(lst)-1):\n",
    "        if lst[i]>lst[i+1]:\n",
    "            return False\n",
    "    return True\n",
    "print(sorted([1,2,3,4,5,6]))    "
   ]
  },
  {
   "cell_type": "code",
   "execution_count": 44,
   "metadata": {},
   "outputs": [
    {
     "name": "stdout",
     "output_type": "stream",
     "text": [
      "True\n",
      "False\n",
      "True\n"
     ]
    }
   ],
   "source": [
    "#5.3\n",
    "def arthemetic(lst):\n",
    "    if len(lst)<2:\n",
    "        return True\n",
    "    diff=lst[1]-lst[0]\n",
    "    for i in range(1,len(lst)-1):\n",
    "        if lst[i+1]-lst[i] !=diff:\n",
    "            return False\n",
    "    return True\n",
    "print(arthemetic([3,6,9,12,15]))\n",
    "print(arthemetic([3,6,9,11,14]))\n",
    "print(arthemetic([3]))"
   ]
  },
  {
   "cell_type": "code",
   "execution_count": 47,
   "metadata": {},
   "outputs": [
    {
     "name": "stdout",
     "output_type": "stream",
     "text": [
      "20\n",
      "5\n",
      "0\n"
     ]
    }
   ],
   "source": [
    "numlist=[3,2,7,-1,9]\n",
    "mysum=0\n",
    "for number in numlist:\n",
    "    mysum=mysum+number\n",
    "print(mysum)\n",
    "mysum1=0\n",
    "for number1 in numlist:\n",
    "    mysum1+=1\n",
    "print(mysum1)   \n",
    "myprod=0\n",
    "for num in numlist:\n",
    "    myprod=myprod*num\n",
    "print(myprod)    "
   ]
  },
  {
   "cell_type": "code",
   "execution_count": 48,
   "metadata": {},
   "outputs": [
    {
     "name": "stdout",
     "output_type": "stream",
     "text": [
      "-378\n"
     ]
    }
   ],
   "source": [
    "numlist=[3,2,7,-1,9]\n",
    "myprod=1\n",
    "for num in numlist:\n",
    "    myprod=myprod*num\n",
    "print(myprod)"
   ]
  },
  {
   "cell_type": "code",
   "execution_count": 51,
   "metadata": {},
   "outputs": [
    {
     "name": "stdout",
     "output_type": "stream",
     "text": [
      "1\n",
      "6\n",
      "120\n",
      "5040\n"
     ]
    }
   ],
   "source": [
    "#5.4\n",
    "def factorial(n):\n",
    "    \"return n!\"\n",
    "    res=1\n",
    "    for i in range(2,n+1):\n",
    "        res *=i\n",
    "    return res\n",
    "print(factorial(0))\n",
    "print(factorial(3))\n",
    "print(factorial(5))\n",
    "print(factorial(7))"
   ]
  },
  {
   "cell_type": "code",
   "execution_count": 54,
   "metadata": {},
   "outputs": [
    {
     "name": "stdout",
     "output_type": "stream",
     "text": [
      " RAM\n",
      " CPU\n"
     ]
    }
   ],
   "source": [
    "#5.5\n",
    "def acroynym(phrase):\n",
    "    words=phrase.split()\n",
    "    res=\" \"\n",
    "    for w in words:\n",
    "        res=res+w[0].upper()\n",
    "    return res\n",
    "print(acroynym(\"random access memory\"))\n",
    "print(acroynym(\"central processing unit\"))"
   ]
  },
  {
   "cell_type": "code",
   "execution_count": 61,
   "metadata": {},
   "outputs": [
    {
     "name": "stdout",
     "output_type": "stream",
     "text": [
      "[1]\n",
      "[1, 2, 3, 6]\n",
      "[1, 11]\n"
     ]
    }
   ],
   "source": [
    "#5.6\n",
    "def divisors(n):\n",
    "    res=[]\n",
    "    for i in range(1,n+1):\n",
    "        if n%i==0:\n",
    "            res.append(i)\n",
    "    return res     \n",
    "print(divisors(1))\n",
    "print(divisors(6))\n",
    "print(divisors(11))\n"
   ]
  },
  {
   "cell_type": "code",
   "execution_count": 64,
   "metadata": {},
   "outputs": [
    {
     "name": "stdout",
     "output_type": "stream",
     "text": [
      "0 1 2 3 4 5 "
     ]
    }
   ],
   "source": [
    "n=6\n",
    "for i in range(n):\n",
    "    print(i,end=\" \")"
   ]
  },
  {
   "cell_type": "code",
   "execution_count": 66,
   "metadata": {},
   "outputs": [
    {
     "name": "stdout",
     "output_type": "stream",
     "text": [
      "0 1 2 3 4 5 0 1 2 3 4 5 0 1 2 3 4 5 0 1 2 3 4 5 0 1 2 3 4 5 0 1 2 3 4 5 "
     ]
    }
   ],
   "source": [
    "n=6\n",
    "for j in range(n):\n",
    "    for i in range(n):\n",
    "        print(i,end=\" \") "
   ]
  },
  {
   "cell_type": "code",
   "execution_count": 71,
   "metadata": {},
   "outputs": [
    {
     "name": "stdout",
     "output_type": "stream",
     "text": [
      "0 1 2 3 4 \n",
      "0 1 2 3 4 \n",
      "0 1 2 3 4 \n",
      "0 1 2 3 4 \n",
      "0 1 2 3 4 \n",
      "None\n"
     ]
    }
   ],
   "source": [
    "def nested(n):\n",
    "    for j in range(n):\n",
    "        for i in range(n):\n",
    "            print(i,end=\" \")\n",
    "        print()   \n",
    "print(nested(5))        "
   ]
  },
  {
   "cell_type": "code",
   "execution_count": 73,
   "metadata": {},
   "outputs": [
    {
     "name": "stdout",
     "output_type": "stream",
     "text": [
      "2\n",
      "10\n",
      "[2, 10]\n"
     ]
    }
   ],
   "source": [
    "#5.7\n",
    "def xmult(x,y):\n",
    "    l=[]\n",
    "    for i in x:\n",
    "        for j in y:\n",
    "            print(i*j)\n",
    "            l.append(i*j)\n",
    "    return l       \n",
    "print(xmult([2],([1,5])))"
   ]
  },
  {
   "cell_type": "code",
   "execution_count": 74,
   "metadata": {},
   "outputs": [
    {
     "name": "stdout",
     "output_type": "stream",
     "text": [
      "0 \n",
      "0 1 \n",
      "0 1 2 \n",
      "0 1 2 3 \n",
      "None\n"
     ]
    }
   ],
   "source": [
    "def nested2(n):\n",
    "    for j in range(n):\n",
    "        for i in range(j+1):\n",
    "            print(i,end=\" \")\n",
    "        print()\n",
    "print(nested2(4))        \n",
    "            "
   ]
  },
  {
   "cell_type": "code",
   "execution_count": 83,
   "metadata": {},
   "outputs": [
    {
     "name": "stdout",
     "output_type": "stream",
     "text": [
      "None\n"
     ]
    }
   ],
   "source": [
    "#5.8\n",
    "def bubblesort(lst):\n",
    "    for i in range(len(lst)-1,0,-1):\n",
    "        for j in range(i):\n",
    "            if lst[j+1] < lst[j]:\n",
    "                lst[j],lst[j+1]=lst[j+1],lst[j]\n",
    "\n",
    "print(bubblesort([3,1,7,4,9,2,5]))"
   ]
  },
  {
   "cell_type": "code",
   "execution_count": 89,
   "metadata": {},
   "outputs": [
    {
     "name": "stdout",
     "output_type": "stream",
     "text": [
      "[[1, 2, 3], [3, 5, 6], [7, 8, 9]]\n",
      "[1, 2, 3]\n",
      "2\n",
      "[1, 2, 3]\n",
      "[3, 5, 6]\n",
      "[7, 8, 9]\n"
     ]
    }
   ],
   "source": [
    "t=[[1,2,3],[3,5,6],[7,8,9]]\n",
    "print(t)\n",
    "print(t[0])\n",
    "print(t[0][1])#row 2 column 0\n",
    "for row in t:\n",
    "    print(row)"
   ]
  },
  {
   "cell_type": "code",
   "execution_count": 91,
   "metadata": {},
   "outputs": [
    {
     "name": "stdout",
     "output_type": "stream",
     "text": [
      "1 2 3 \n",
      "3 5 7 \n",
      "7 8 9 \n",
      "None\n"
     ]
    }
   ],
   "source": [
    "def print2D(t):\n",
    "    for row in t:\n",
    "        for item in row:\n",
    "            print(item,end=\" \")\n",
    "        print()\n",
    "print(print2D([[1,2,3],[3,5,7],[7,8,9]]))       "
   ]
  },
  {
   "cell_type": "code",
   "execution_count": 97,
   "metadata": {},
   "outputs": [
    {
     "name": "stdout",
     "output_type": "stream",
     "text": [
      "None\n"
     ]
    }
   ],
   "source": [
    "def ince2D(t):\n",
    "    nrows=len(t)\n",
    "    ncols=len(t[0])\n",
    "    for i in range(nrows):\n",
    "        for j in range(ncols):\n",
    "            t[i][j] += 1\n",
    "print(ince2D([[1,2,3],[3,4,5],[6,7,8]]))            "
   ]
  },
  {
   "cell_type": "code",
   "execution_count": 103,
   "metadata": {},
   "outputs": [
    {
     "name": "stdout",
     "output_type": "stream",
     "text": [
      "None\n",
      "[4, 8, 4, 5]\n",
      "[5, 2, 10, 3]\n",
      "[8, 4, 6, 6]\n"
     ]
    }
   ],
   "source": [
    "#5.9\n",
    "def add2D(t1,t2):\n",
    "    nrows=len(t1)\n",
    "    ncols=len(t1[0])\n",
    "    for i in range(nrows):\n",
    "        for j in range(ncols):\n",
    "            t1[i][j] += t2[i][j]    \n",
    "t=[[4,7,2,5],[5,1,9,2],[8,3,6,6]]\n",
    "s=[[0,1,2,0],[0,1,1,1],[0,1,0,0]]\n",
    "print(add2D(t,s))  \n",
    "for row in t:\n",
    "    print(row)"
   ]
  },
  {
   "cell_type": "code",
   "execution_count": 98,
   "metadata": {},
   "outputs": [
    {
     "name": "stdout",
     "output_type": "stream",
     "text": [
      "2\n"
     ]
    }
   ],
   "source": [
    "#5.10\n",
    "def interest(rate,x):\n",
    "    amount=x\n",
    "    count=0\n",
    "    while amount<200:\n",
    "        count +=1\n",
    "        amount +=amount*rate\n",
    "    return count\n",
    "print(interest(0.6,100))"
   ]
  },
  {
   "cell_type": "code",
   "execution_count": 116,
   "metadata": {},
   "outputs": [
    {
     "name": "stdout",
     "output_type": "stream",
     "text": [
      "13\n",
      "13\n",
      "8\n"
     ]
    }
   ],
   "source": [
    "def fibonacci(bound):\n",
    "    previous=1\n",
    "    current=1\n",
    "    while current <= bound:\n",
    "        previous,current=current,previous+current\n",
    "    return current \n",
    "print(fibonacci(9))\n",
    "print(fibonacci(8))\n",
    "print(fibonacci(7))"
   ]
  },
  {
   "cell_type": "code",
   "execution_count": 118,
   "metadata": {},
   "outputs": [
    {
     "name": "stdout",
     "output_type": "stream",
     "text": [
      "2\n",
      "2.7182818284590455\n"
     ]
    }
   ],
   "source": [
    "#5.11\n",
    "def approx(error):\n",
    "    prev=1\n",
    "    current=2\n",
    "    i = 2\n",
    "    while current-prev>error:\n",
    "        prev=current\n",
    "        current=prev+(1/factorial(i))\n",
    "        i += 1\n",
    "    return current\n",
    "print(approx(33))\n",
    "print(approx(0))"
   ]
  },
  {
   "cell_type": "code",
   "execution_count": 125,
   "metadata": {},
   "outputs": [
    {
     "name": "stdout",
     "output_type": "stream",
     "text": [
      "positive 3\n",
      "\n",
      "negative -3\n",
      "\n"
     ]
    }
   ],
   "source": [
    "#exercise \n",
    "def test(x):\n",
    "    if x>0:\n",
    "        print(\"positive\",x)\n",
    "    elif x<0:\n",
    "        print(\"negative\",x)\n",
    "    elif x==0 :\n",
    "        print(\"Zero\")\n",
    "    return\"\"   \n",
    "print(test(3))        \n",
    "print(test(-3))"
   ]
  },
  {
   "cell_type": "code",
   "execution_count": 133,
   "metadata": {},
   "outputs": [
    {
     "name": "stdout",
     "output_type": "stream",
     "text": [
      "3\n",
      "6\n",
      "9\n",
      "12\n",
      "None\n"
     ]
    }
   ],
   "source": [
    "#5.14\n",
    "def mult3(list):\n",
    "    for n in list:\n",
    "        if n%3==0:\n",
    "            print(n)\n",
    "print(mult3([3,6,8,9,12,14]))            "
   ]
  },
  {
   "cell_type": "code",
   "execution_count": 135,
   "metadata": {},
   "outputs": [
    {
     "name": "stdout",
     "output_type": "stream",
     "text": [
      "1\n",
      "3\n",
      "None\n"
     ]
    }
   ],
   "source": [
    "#5.15\n",
    "def vowels(string):\n",
    "    for i in range(0,len(string)):\n",
    "        if string[i] in \"aeiouAEIOU\":\n",
    "            print(i)\n",
    "print(vowels(\"Waqar\"))            "
   ]
  },
  {
   "cell_type": "code",
   "execution_count": 141,
   "metadata": {},
   "outputs": [
    {
     "name": "stdout",
     "output_type": "stream",
     "text": [
      "[2, 3, 5, 6]\n",
      "[1, 4, 7, 9]\n",
      "[]\n"
     ]
    }
   ],
   "source": [
    "#5.16\n",
    "def indexes(string,char):\n",
    "    l=[]\n",
    "    for index,i in enumerate(string):\n",
    "        if i==char:\n",
    "            l.append(index)\n",
    "    return l\n",
    "print(indexes(\"Mississipi\",\"s\"))\n",
    "print(indexes(\"Mississipi\",\"i\"))\n",
    "print(indexes(\"mississipi\",\"a\"))"
   ]
  },
  {
   "cell_type": "code",
   "execution_count": 142,
   "metadata": {},
   "outputs": [
    {
     "name": "stdout",
     "output_type": "stream",
     "text": [
      "2\n",
      "6\n",
      "4\n",
      "None\n"
     ]
    }
   ],
   "source": [
    "#5.17\n",
    "def doubles(lst):\n",
    "    if len(lst)>1:\n",
    "        for i in range(1,len(lst)):\n",
    "            if(lst[i]==2*lst[i-1]):\n",
    "                print(lst[i])\n",
    "print(doubles([3,0,1,2,3,6,2,4,5,6,5]))                "
   ]
  },
  {
   "cell_type": "code",
   "execution_count": 143,
   "metadata": {},
   "outputs": [
    {
     "name": "stdout",
     "output_type": "stream",
     "text": [
      "['fish', 'Stop', 'Dust']\n"
     ]
    }
   ],
   "source": [
    "#5.18\n",
    "def Four_letter(words):\n",
    "    answer=[]\n",
    "    for word in words:\n",
    "        if len(word)==4:\n",
    "            answer.append(word)\n",
    "    return answer\n",
    "print(Four_letter([\"dog\",\"fish\",\"Stop\",\"Bus\",\"Dust\"]))"
   ]
  },
  {
   "cell_type": "code",
   "execution_count": 147,
   "metadata": {},
   "outputs": [
    {
     "name": "stdout",
     "output_type": "stream",
     "text": [
      "True\n"
     ]
    }
   ],
   "source": [
    "#5.19\n",
    "def inBoth(l1,l2):\n",
    "    for item in l1:\n",
    "        for item2 in l2:\n",
    "            if item==item2:\n",
    "                return True\n",
    "    return False\n",
    "print(inBoth([3,2,4,5],[3,2,6,7]))"
   ]
  },
  {
   "cell_type": "code",
   "execution_count": 148,
   "metadata": {},
   "outputs": [
    {
     "name": "stdout",
     "output_type": "stream",
     "text": [
      "[4, 6]\n"
     ]
    }
   ],
   "source": [
    "#5.20\n",
    "def intersect(l1,l2):\n",
    "    answer=[]\n",
    "    for item in l1:\n",
    "        for item1 in l2:\n",
    "            if item==item1:\n",
    "                answer.append(item1)\n",
    "    return answer\n",
    "print(intersect([3,5,4,6],[4,7,8,6]))"
   ]
  },
  {
   "cell_type": "code",
   "execution_count": 149,
   "metadata": {},
   "outputs": [
    {
     "name": "stdout",
     "output_type": "stream",
     "text": [
      "2 7\n",
      "4 5\n",
      "5 4\n",
      "None\n"
     ]
    }
   ],
   "source": [
    "#5.21\n",
    "def pair(l1,l2,n):\n",
    "    for item1 in l1:\n",
    "        for item2 in l2:\n",
    "            if item1 + item2 == n:\n",
    "                print(item1,item2)\n",
    "print(pair([1,2,4,5],[4,5,6,7],9))                "
   ]
  },
  {
   "cell_type": "code",
   "execution_count": 154,
   "metadata": {},
   "outputs": [
    {
     "name": "stdout",
     "output_type": "stream",
     "text": [
      "0 4\n",
      "1 3\n",
      "2 5\n",
      "None\n"
     ]
    }
   ],
   "source": [
    "#5.22\n",
    "def pairsum(lst,n):\n",
    "    for i in range(0,len(lst)):\n",
    "        for j in range(i+1,len(lst)):\n",
    "            if lst[i]+lst[j]==n:\n",
    "                print(i,j)\n",
    "print(pairsum([7,8,5,3,4,6],11))                "
   ]
  },
  {
   "cell_type": "code",
   "execution_count": 168,
   "metadata": {},
   "outputs": [
    {
     "name": "stdout",
     "output_type": "stream",
     "text": [
      "350\n",
      "400\n",
      "720.0\n"
     ]
    }
   ],
   "source": [
    "#5.23\n",
    "def pay(wage,hours):\n",
    "    if hours <= 40:\n",
    "        return hours*wage\n",
    "    elif hours <= 60:\n",
    "        (hours-40)*1.5*wage +40*wage\n",
    "    else:\n",
    "        return (hours-60)*2*wage+(20*1.5*wage)+40*wage\n",
    "print(pay(10,35))   \n",
    "print(pay(10,40))\n",
    "print(pay(10,61))"
   ]
  },
  {
   "cell_type": "code",
   "execution_count": 170,
   "metadata": {},
   "outputs": [
    {
     "name": "stdout",
     "output_type": "stream",
     "text": [
      "Capitalized\n",
      "Unknown\n"
     ]
    }
   ],
   "source": [
    "#5.24\n",
    "def case(string):\n",
    "    if string[0]>=\"A\" and string[0]<=\"Z\":\n",
    "        return \"Capitalized\"\n",
    "    elif string[0]>=\"a\" and string[0]<=\"z\":\n",
    "        return \"Not capatilized\"\n",
    "    else:\n",
    "        return \"Unknown\"\n",
    "print(case(\"Android\"))    \n",
    "print(case(\"3M\"))"
   ]
  },
  {
   "cell_type": "code",
   "execution_count": 173,
   "metadata": {},
   "outputs": [
    {
     "name": "stdout",
     "output_type": "stream",
     "text": [
      "True\n",
      "False\n",
      "True\n"
     ]
    }
   ],
   "source": [
    "#5.25\n",
    "def leap(year):\n",
    "    if year%4==0 and (year%100 !=0) or (year%400 == 0):\n",
    "        return True\n",
    "    return False\n",
    "print(leap(1600))\n",
    "print(leap(1700))\n",
    "print(leap(2000))"
   ]
  },
  {
   "cell_type": "code",
   "execution_count": 176,
   "metadata": {},
   "outputs": [
    {
     "name": "stdout",
     "output_type": "stream",
     "text": [
      "1\n",
      "-1\n",
      "0\n"
     ]
    }
   ],
   "source": [
    "#5.26\n",
    "def Rockps(p1,p2):\n",
    "    if p1==p2:\n",
    "        return 0\n",
    "    elif (p1==\"R\" and p2== \"S\") or (p1==\"S\" and p2==\"P\") or (p1==\"P\" and p2==\"R\"):\n",
    "        return -1\n",
    "    else:\n",
    "        return 1\n",
    "\n",
    "print(Rockps(\"R\",\"P\")) \n",
    "print(Rockps(\"R\",\"S\"))\n",
    "print(Rockps(\"S\",\"S\"))"
   ]
  },
  {
   "cell_type": "code",
   "execution_count": 183,
   "metadata": {},
   "outputs": [
    {
     "name": "stdout",
     "output_type": "stream",
     "text": [
      "3.7\n",
      "4\n"
     ]
    }
   ],
   "source": [
    "#5.27\n",
    "def letter2number(grade):\n",
    "    num=4 -(ord(grade[0])-ord(\"A\"))\n",
    "    if len(grade)>1:\n",
    "        if grade[1]==\"+\":\n",
    "            num += 0.3\n",
    "        else:\n",
    "            num -= 0.3\n",
    "    return num\n",
    "print(letter2number(\"A-\"))\n",
    "print(letter2number(\"A\"))"
   ]
  },
  {
   "cell_type": "code",
   "execution_count": 191,
   "metadata": {},
   "outputs": [
    {
     "name": "stdout",
     "output_type": "stream",
     "text": [
      "True\n",
      "False\n"
     ]
    }
   ],
   "source": [
    "#5.28\n",
    "def geometric(lst):\n",
    "    if len(lst) <= 1:\n",
    "        return True \n",
    "    ratio =lst[1]/lst[0]\n",
    "    for i in range(1,len(lst)):\n",
    "        if lst[i]/lst[i-1] != ratio:\n",
    "            return False\n",
    "    return True\n",
    "print(geometric([2,4,8,16,32,64,128,256]))    \n",
    "print(geometric([2,4,6,8]))"
   ]
  },
  {
   "cell_type": "code",
   "execution_count": 1,
   "metadata": {},
   "outputs": [
    {
     "name": "stdout",
     "output_type": "stream",
     "text": [
      "[['Len', 'Kate', 'Bob'], ['Gerber', 'Fox', 'Dunn']]\n"
     ]
    }
   ],
   "source": [
    "#5.29\n",
    "def lastfirst(names):\n",
    "    last,first=[],[]\n",
    "    for name in  names:\n",
    "        temp_last,temp_first=name.split(\",\")\n",
    "        last.append(temp_last)\n",
    "        first.append(temp_first)\n",
    "    answer=[first,last]\n",
    "    return answer\n",
    "print(lastfirst([\"Gerber,Len\",\"Fox,Kate\",\"Dunn,Bob\"]))\n",
    "        "
   ]
  },
  {
   "cell_type": "code",
   "execution_count": 10,
   "metadata": {},
   "outputs": [
    {
     "name": "stdout",
     "output_type": "stream",
     "text": [
      "Words of length 2  :-  6\n",
      "Words of length 4  :-  3\n",
      "Words of length 5  :-  3\n",
      "Words of length 1  :-  1\n",
      "Words of length 7  :-  3\n",
      "Words of length 3  :-  7\n",
      "Words of length 6  :-  1\n",
      "Words of length 8  :-  1\n",
      "None\n"
     ]
    }
   ],
   "source": [
    "#5.30\n",
    "def many(file):\n",
    "    temp=[]\n",
    "    with open(file,'r') as f:\n",
    "        for line in f:\n",
    "            temp+=map(lambda x : x.strip(',?.'),line.split())\n",
    "            dict={}\n",
    "            for word in temp:\n",
    "                if len(word) not in dict:\n",
    "                    dict[len(word)]=1\n",
    "                else:\n",
    "                    dict[len(word)]+=1\n",
    "            for x in dict:\n",
    "                print(\"Words of length\",x,\" :- \",dict[x])\n",
    "    return           \n",
    "print(many(\"example.txt\"))"
   ]
  },
  {
   "cell_type": "code",
   "execution_count": 16,
   "metadata": {},
   "outputs": [
    {
     "name": "stdout",
     "output_type": "stream",
     "text": [
      "True\n",
      "False\n"
     ]
    }
   ],
   "source": [
    "#5.31\n",
    "def subsetsum(x,y):\n",
    "    for i in range(0,len(x)):\n",
    "        for j in range(i,len(x)):\n",
    "            for k in range(j,len(x)):\n",
    "                if x[i]+x[j]+x[k]==y:\n",
    "                    return True\n",
    "    return False           \n",
    "print(subsetsum([5,4,10,20,15,19],38))    \n",
    "print(subsetsum([5,4,10,20,15,19],10))"
   ]
  },
  {
   "cell_type": "code",
   "execution_count": 21,
   "metadata": {},
   "outputs": [
    {
     "name": "stdout",
     "output_type": "stream",
     "text": [
      "3\n",
      "8\n",
      "13\n"
     ]
    }
   ],
   "source": [
    "#5.32\n",
    "def fib(n):\n",
    "    if n<1:\n",
    "        return 1\n",
    "    n0=1\n",
    "    n1=1\n",
    "    for i in range(1,n):\n",
    "        n1=n1+n0\n",
    "        n0=n1-n0\n",
    "    return n1\n",
    "print(fib(3))\n",
    "print(fib(5))\n",
    "print(fib(6))"
   ]
  },
  {
   "cell_type": "code",
   "execution_count": 23,
   "metadata": {},
   "outputs": [
    {
     "name": "stdout",
     "output_type": "stream",
     "text": [
      "3\n"
     ]
    }
   ],
   "source": [
    "#5.33\n",
    "def mystery(n):\n",
    "    answer=0\n",
    "    while n >1:\n",
    "        answer+=1\n",
    "        n=int(n/2)\n",
    "    return answer\n",
    "print(mystery(8))"
   ]
  },
  {
   "cell_type": "code",
   "execution_count": 30,
   "metadata": {},
   "outputs": [
    {
     "name": "stdout",
     "output_type": "stream",
     "text": [
      "(120.29, -70.67)\n"
     ]
    }
   ],
   "source": [
    "#5.34\n",
    "def statement(x):\n",
    "    deposit=0\n",
    "    withdrawl=0\n",
    "    for n in x:\n",
    "        if n>0:\n",
    "            deposit +=n\n",
    "        else:\n",
    "            withdrawl+=n\n",
    "    return (deposit,withdrawl)        \n",
    "print(statement([30.95,-15.67,45.56,-55.00,43.78]))            "
   ]
  },
  {
   "cell_type": "code",
   "execution_count": 34,
   "metadata": {},
   "outputs": [
    {
     "name": "stdout",
     "output_type": "stream",
     "text": [
      "5\n"
     ]
    }
   ],
   "source": [
    "#5.35\n",
    "def pixels(x):\n",
    "    answer=0\n",
    "    for i in range(0,len(x)):\n",
    "        for j in range(0,len(x[0])):\n",
    "            if x[i][j]>0:\n",
    "                answer +=1\n",
    "    return answer\n",
    "print(pixels([[0,156,0,0],[34,0,0,0],[23,123,0,34]]))"
   ]
  },
  {
   "cell_type": "code",
   "execution_count": 37,
   "metadata": {},
   "outputs": [
    {
     "name": "stdout",
     "output_type": "stream",
     "text": [
      "True\n"
     ]
    }
   ],
   "source": [
    "#5.36\n",
    "def prime(x):\n",
    "    if x<2:\n",
    "        return False\n",
    "    elif x==2:\n",
    "        return True\n",
    "    else:\n",
    "        for i in range(2,x):\n",
    "            if (x%i==0):\n",
    "                return False\n",
    "    return True\n",
    "print(prime(3))"
   ]
  },
  {
   "cell_type": "code",
   "execution_count": 4,
   "metadata": {},
   "outputs": [
    {
     "name": "stdout",
     "output_type": "stream",
     "text": [
      "1\n",
      "19\n"
     ]
    }
   ],
   "source": [
    "#5.37\n",
    "def mssl(x):\n",
    "    max=0\n",
    "    for i in range(0,len(x)):\n",
    "        for j in range(i+1,len(x)+1):\n",
    "            if sum (x[i:j])>max:\n",
    "                max=sum(x[i:j])\n",
    "    if max<0:\n",
    "        max=0\n",
    "    return max\n",
    "print(mssl([1]))\n",
    "print(mssl([4,-2,-8,5,-2,7,7,2,-6,5]))"
   ]
  },
  {
   "cell_type": "code",
   "execution_count": 6,
   "metadata": {},
   "outputs": [
    {
     "name": "stdout",
     "output_type": "stream",
     "text": [
      "10\n",
      "5\n",
      "16\n",
      "8\n",
      "4\n",
      "2\n",
      "1\n",
      "None\n"
     ]
    }
   ],
   "source": [
    "#5.38\n",
    "def collatz(n):\n",
    "    print(int(n))\n",
    "    while n != 1:\n",
    "        if n%2==0:\n",
    "            n=n/2\n",
    "        else:\n",
    "            n=3*n+1\n",
    "        print(int(n))\n",
    "print(collatz(10))        "
   ]
  },
  {
   "cell_type": "code",
   "execution_count": 9,
   "metadata": {},
   "outputs": [
    {
     "name": "stdout",
     "output_type": "stream",
     "text": [
      "aaaargh!\n"
     ]
    }
   ],
   "source": [
    "#5.39\n",
    "def exclamation(string):\n",
    "    answer=\"\"\n",
    "    for i in range(0,len(string)):\n",
    "        if string[i] in \"aeiouAEIOU\":\n",
    "            answer = answer +4*string[i]\n",
    "        else:\n",
    "            answer= answer+ string[i]\n",
    "    answer += \"!\"\n",
    "    return answer\n",
    "print(exclamation(\"argh\"))"
   ]
  },
  {
   "cell_type": "code",
   "execution_count": 1,
   "metadata": {},
   "outputs": [
    {
     "name": "stdout",
     "output_type": "stream",
     "text": [
      "3.146567747182955\n",
      "3.141592703589814\n"
     ]
    }
   ],
   "source": [
    "#5.40\n",
    "def approxPi(error):\n",
    "    pi=4/1\n",
    "    i=3\n",
    "    term=-4/i\n",
    "    while abs(term)>error:\n",
    "        pi = pi+term\n",
    "        term = -term*i/(i+2)\n",
    "        i = i+2\n",
    "    pi = pi + term\n",
    "    return pi\n",
    "print(approxPi(0.01))\n",
    "print(approxPi(0.0000001))"
   ]
  },
  {
   "cell_type": "code",
   "execution_count": 2,
   "metadata": {},
   "outputs": [
    {
     "name": "stdout",
     "output_type": "stream",
     "text": [
      "9\n"
     ]
    }
   ],
   "source": [
    "#5.41\n",
    "def poly(lst,x):\n",
    "    polyx=1\n",
    "    answer=0\n",
    "    for a in lst:\n",
    "        answer += polyx*a\n",
    "        polyx *= x\n",
    "    return answer\n",
    "print(poly([1,2,1],2))"
   ]
  },
  {
   "cell_type": "code",
   "execution_count": 3,
   "metadata": {},
   "outputs": [
    {
     "name": "stdout",
     "output_type": "stream",
     "text": [
      "[2, 2, 2, 3, 3]\n"
     ]
    }
   ],
   "source": [
    "#5.42\n",
    "def primeFac(n):\n",
    "    answer=[]\n",
    "    prime=2\n",
    "    while n !=1:\n",
    "        if n%prime==0:\n",
    "            answer.append(prime)\n",
    "            n=n/prime\n",
    "        else:\n",
    "            prime +=1\n",
    "    return answer\n",
    "print(primeFac(72))"
   ]
  },
  {
   "cell_type": "code",
   "execution_count": 4,
   "metadata": {},
   "outputs": [
    {
     "name": "stdout",
     "output_type": "stream",
     "text": [
      "True\n"
     ]
    }
   ],
   "source": [
    "#5.43\n",
    "def evenrow(x):\n",
    "    for row in x:\n",
    "        if sum(row)%2!=0:\n",
    "            return False\n",
    "    return True \n",
    "print(evenrow([[1,3],[2,4],[0,6]]))            "
   ]
  },
  {
   "cell_type": "code",
   "execution_count": 5,
   "metadata": {},
   "outputs": [
    {
     "name": "stdout",
     "output_type": "stream",
     "text": [
      "914\n"
     ]
    }
   ],
   "source": [
    "#5.44\n",
    "def encrypt(cipher,text):\n",
    "    table=str.maketrans(\"0123456789\",cipher)\n",
    "    return text.translate(table)\n",
    "print(encrypt(\"3941068257\",\"132\"))"
   ]
  },
  {
   "cell_type": "code",
   "execution_count": 7,
   "metadata": {},
   "outputs": [
    {
     "name": "stdout",
     "output_type": "stream",
     "text": [
      "[91.0, 65.0, 87.0, 11.333333333333334]\n",
      "63.583333333333336\n",
      "\n"
     ]
    }
   ],
   "source": [
    "#5.45\n",
    "def avgavg(grade):\n",
    "    grades=[]\n",
    "    for student in grade:\n",
    "        grades.append(sum(student)/len(student))\n",
    "    print(grades)\n",
    "    print(sum(grades)/len(grades))\n",
    "    return\"\"\n",
    "print(avgavg([[95,92,86],[66,75,54],[89,72,100],[34,0,0]]))    "
   ]
  },
  {
   "cell_type": "code",
   "execution_count": 9,
   "metadata": {},
   "outputs": [
    {
     "name": "stdout",
     "output_type": "stream",
     "text": [
      "2\n"
     ]
    }
   ],
   "source": [
    "#5.46\n",
    "def inversions(s):\n",
    "    inversion=0\n",
    "    for i in range(0,len(s)):\n",
    "        for j in range(i,len(s)):\n",
    "            if s[i]>s[j]:\n",
    "                inversion +=1\n",
    "    return inversion\n",
    "print(inversions(\"ABBFHDL\"))"
   ]
  },
  {
   "cell_type": "code",
   "execution_count": 10,
   "metadata": {},
   "outputs": [
    {
     "name": "stdout",
     "output_type": "stream",
     "text": [
      "1010\n"
     ]
    }
   ],
   "source": [
    "#5.47\n",
    "def d2x(n,x):\n",
    "    i=0\n",
    "    while(n//(x**i)!=0):\n",
    "        i+=1\n",
    "    answer=\"\"\n",
    "    while i !=0:\n",
    "        i -= 1\n",
    "        answer +=str(n//(x**i))\n",
    "        n=n%(x**i)\n",
    "    return(answer)\n",
    "print(d2x(10,2))        "
   ]
  },
  {
   "cell_type": "code",
   "execution_count": 14,
   "metadata": {},
   "outputs": [
    {
     "name": "stdout",
     "output_type": "stream",
     "text": [
      "True\n"
     ]
    }
   ],
   "source": [
    "#5.48\n",
    "def sublist(lst1,lst2):\n",
    "    i=0\n",
    "    check = False \n",
    "    for n in lst1:\n",
    "        while i<len(lst2):\n",
    "            if lst2[i]==n:\n",
    "                i=i+1\n",
    "                check= True\n",
    "                break\n",
    "            else:\n",
    "                i=i+1\n",
    "                check=False\n",
    "        if check==False:\n",
    "            return False\n",
    "    return True \n",
    "print(sublist([15,1,100],[20,15,30,20,5,1,100]))"
   ]
  },
  {
   "cell_type": "code",
   "execution_count": 15,
   "metadata": {},
   "outputs": [
    {
     "name": "stdout",
     "output_type": "stream",
     "text": [
      "2.5\n"
     ]
    }
   ],
   "source": [
    "#5.49\n",
    "def heron(n,error):\n",
    "    prev=1.0\n",
    "    new=(prev+(n/prev))/2\n",
    "    while abs(new-prev)>error:\n",
    "        prew=new\n",
    "        new=(prev+(n/prev))/2\n",
    "    return new\n",
    "print(heron(4.0,5.0))"
   ]
  }
 ],
 "metadata": {
  "kernelspec": {
   "display_name": "Python 3",
   "language": "python",
   "name": "python3"
  },
  "language_info": {
   "codemirror_mode": {
    "name": "ipython",
    "version": 3
   },
   "file_extension": ".py",
   "mimetype": "text/x-python",
   "name": "python",
   "nbconvert_exporter": "python",
   "pygments_lexer": "ipython3",
   "version": "3.7.3"
  }
 },
 "nbformat": 4,
 "nbformat_minor": 2
}
